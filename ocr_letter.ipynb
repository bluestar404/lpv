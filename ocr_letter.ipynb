{
 "cells": [
  {
   "cell_type": "code",
   "execution_count": 1,
   "id": "9b7e0e2d-81e9-4598-a96b-46a02ab71d92",
   "metadata": {},
   "outputs": [],
   "source": [
    "# Import necessary libraries and modules\n",
    "from tensorflow.keras.models import Sequential  # Sequential model: a linear stack of layers in Keras\n",
    "from tensorflow.keras.layers import Dense, Dropout, Input  # Dense (fully connected layer), Dropout (regularization layer), and Input layer\n",
    "from tensorflow.keras.optimizers import RMSprop  # RMSprop optimizer: used for training the model with adaptive learning rates\n",
    "from tensorflow.keras.datasets import mnist  # MNIST dataset: a famous dataset of handwritten digits (0-9)\n",
    "import matplotlib.pyplot as plt  # Matplotlib: used for plotting graphs and visualizations\n",
    "import numpy as np  # NumPy: a library for numerical computing, particularly for arrays and matrices\n"
   ]
  },
  {
   "cell_type": "code",
   "execution_count": 2,
   "id": "37febece-cde0-4b01-8e26-97a688b5d85a",
   "metadata": {},
   "outputs": [],
   "source": [
    "# Load the OCR dataset (MNIST)\n",
    "(x_train, y_train), (x_test, y_test) = mnist.load_data()\n",
    "# 'x_train' contains the training images (28x28 pixel images of handwritten digits)\n",
    "# 'y_train' contains the labels for the training images (digits 0-9)\n",
    "# 'x_test' contains the test images (28x28 pixel images of handwritten digits, unseen during training)\n",
    "# 'y_test' contains the labels for the test images (digits 0-9 for evaluation)\n"
   ]
  },
  {
   "cell_type": "code",
   "execution_count": 4,
   "id": "a43fea0b-8524-4eb8-b8ed-5e219ed68d02",
   "metadata": {},
   "outputs": [
    {
     "data": {
      "image/png": "[encoded data removed]",
      "text/plain": [
       "<Figure size 640x480 with 1 Axes>"
      ]
     },
     "metadata": {},
     "output_type": "display_data"
    }
   ],
   "source": [
    "# Reshape the flattened image back to 28x28\n",
    "image = x_train[0].reshape(28, 28)  # Reshaping the first training image (which is a 1D array of 784 values) back to a 28x28 2D array\n",
    "\n",
    "# Display the image\n",
    "plt.imshow(image, cmap='grey')  # Displaying the image using Matplotlib. 'cmap' sets the color map to grayscale\n",
    "plt.show()  # Show the image plot\n"
   ]
  },
  {
   "cell_type": "code",
   "execution_count": 5,
   "id": "6e57d787-a8f3-42ab-8709-d1650c884e76",
   "metadata": {},
   "outputs": [],
   "source": [
    "# Reshape the data to fit the model\n",
    "x_train = x_train.reshape(60000, 784)  # Reshaping the training data from (60000, 28, 28) to (60000, 784)\n",
    "# x_train originally has 60000 images, each 28x28 pixels, so we flatten each image to a 1D array of 784 pixels\n",
    "\n",
    "x_test = x_test.reshape(10000, 784) \n"
   ]
  },
  {
   "cell_type": "code",
   "execution_count": 6,
   "id": "3c74ff21-ff42-4eda-bcbe-46d0f3d0d13c",
   "metadata": {},
   "outputs": [],
   "source": [
    "# Convert class vectors to binary class matrices\n",
    "num_classes = 10  # Define the number of classes (for MNIST, there are 10 classes: digits 0-9)\n",
    "\n",
    "# Convert the labels into binary class matrices (one-hot encoding)\n",
    "y_train = np.eye(num_classes)[y_train]  # For each label in y_train, create a binary vector where the position of the digit is 1, and others are 0\n",
    "y_test = np.eye(num_classes)[y_test]    # Similarly, convert y_test labels to one-hot encoded binary vectors\n"
   ]
  },
  {
   "cell_type": "code",
   "execution_count": 7,
   "id": "42df6270-bb7c-43b7-a0f4-155264668508",
   "metadata": {},
   "outputs": [],
   "source": [
    "# Define the model architecture\n",
    "model = Sequential()  # Initialize a sequential model, which means layers are stacked one after the other\n",
    "\n",
    "model.add(Input(shape=(784,)))  # Define the input layer with 784 units (for each pixel in the 28x28 MNIST images)\n",
    "# The input shape is (784,) because each image has been flattened into a 1D array of 784 pixels\n",
    "\n",
    "model.add(Dense(512, activation='relu'))  # Add a dense layer with 512 neurons and ReLU activation function\n",
    "# Dense layer is a fully connected layer, meaning each neuron in this layer is connected to all the neurons in the previous layer\n",
    "\n",
    "model.add(Dropout(0.2))  # Add a dropout layer to prevent overfitting. 20% of the neurons will be randomly turned off during training\n",
    "\n",
    "model.add(Dense(512, activation='relu'))  # Add another dense layer with 512 neurons and ReLU activation\n",
    "\n",
    "model.add(Dropout(0.2))  # Add another dropout layer with 20% dropout rate\n",
    "\n",
    "model.add(Dense(num_classes, activation='softmax'))  # Add the output layer with 'num_classes' neurons (10 for MNIST)\n",
    "# 'softmax' activation is used for multi-class classification, where it converts raw output values (logits) into probabilities\n",
    "# Each output neuron represents the probability of the input belonging to a specific class (0-9 for MNIST)\n"
   ]
  },
  {
   "cell_type": "code",
   "execution_count": 8,
   "id": "e7564864-35cc-45f2-b727-e34ae021fff1",
   "metadata": {},
   "outputs": [],
   "source": [
    "# Compile the model\n",
    "model.compile(loss='categorical_crossentropy',  # Define the loss function. 'categorical_crossentropy' is used for multi-class classification.\n",
    "              optimizer=RMSprop(),  # Use the RMSprop optimizer, which is well-suited for training deep neural networks.\n",
    "              metrics=['accuracy'])  # Track accuracy during training as an evaluation metric.\n"
   ]
  },
  {
   "cell_type": "code",
   "execution_count": 9,
   "id": "01e81fef-c6d5-4510-843f-f76eefd2c88d",
   "metadata": {},
   "outputs": [
    {
     "name": "stdout",
     "output_type": "stream",
     "text": [
      "Epoch 1/5\n",
      "\u001b[1m469/469\u001b[0m \u001b[32m━━━━━━━━━━━━━━━━━━━━\u001b[0m\u001b[37m\u001b[0m \u001b[1m4s\u001b[0m 8ms/step - accuracy: 0.7950 - loss: 13.4677 - val_accuracy: 0.9281 - val_loss: 0.3259\n",
      "Epoch 2/5\n",
      "\u001b[1m469/469\u001b[0m \u001b[32m━━━━━━━━━━━━━━━━━━━━\u001b[0m\u001b[37m\u001b[0m \u001b[1m3s\u001b[0m 7ms/step - accuracy: 0.8991 - loss: 0.5688 - val_accuracy: 0.9384 - val_loss: 0.2451\n",
      "Epoch 3/5\n",
      "\u001b[1m469/469\u001b[0m \u001b[32m━━━━━━━━━━━━━━━━━━━━\u001b[0m\u001b[37m\u001b[0m \u001b[1m3s\u001b[0m 7ms/step - accuracy: 0.9186 - loss: 0.4229 - val_accuracy: 0.9372 - val_loss: 0.2810\n",
      "Epoch 4/5\n",
      "\u001b[1m469/469\u001b[0m \u001b[32m━━━━━━━━━━━━━━━━━━━━\u001b[0m\u001b[37m\u001b[0m \u001b[1m4s\u001b[0m 8ms/step - accuracy: 0.9325 - loss: 0.3449 - val_accuracy: 0.9594 - val_loss: 0.1796\n",
      "Epoch 5/5\n",
      "\u001b[1m469/469\u001b[0m \u001b[32m━━━━━━━━━━━━━━━━━━━━\u001b[0m\u001b[37m\u001b[0m \u001b[1m4s\u001b[0m 8ms/step - accuracy: 0.9390 - loss: 0.3225 - val_accuracy: 0.9477 - val_loss: 0.2762\n"
     ]
    }
   ],
   "source": [
    "# Train the model\n",
    "batch_size = 128\n",
    "epochs = 5\n",
    "history = model.fit(x_train, y_train, batch_size=batch_size, epochs=epochs, verbose=1, validation_data=(x_test, y_test))"
   ]
  },
  {
   "cell_type": "code",
   "execution_count": 10,
   "id": "fa451362-e1d9-48b6-972b-ea7639a2db88",
   "metadata": {},
   "outputs": [
    {
     "name": "stdout",
     "output_type": "stream",
     "text": [
      "Test loss: 0.27623456716537476\n",
      "Test accuracy: 0.947700023651123\n"
     ]
    }
   ],
   "source": [
    "# Evaluate the model\n",
    "score = model.evaluate(x_test, y_test, verbose=0)  # Evaluate the trained model on the test data (x_test and y_test)\n",
    "# The 'evaluate' function computes the loss and any metrics defined during compilation (in this case, accuracy)\n",
    "\n",
    "print('Test loss:', score[0])  # The first element of 'score' is the test loss\n",
    "print('Test accuracy:', score[1])  # The second element of 'score' is the test accuracy\n"
   ]
  },
  {
   "cell_type": "code",
   "execution_count": null,
   "id": "8444fa95-562b-412b-9f1c-5e11c07bc8e7",
   "metadata": {},
   "outputs": [],
   "source": []
  }
 ],
 "metadata": {
  "kernelspec": {
   "display_name": "Python 3 (ipykernel)",
   "language": "python",
   "name": "python3"
  },
  "language_info": {
   "codemirror_mode": {
    "name": "ipython",
    "version": 3
   },
   "file_extension": ".py",
   "mimetype": "text/x-python",
   "name": "python",
   "nbconvert_exporter": "python",
   "pygments_lexer": "ipython3",
   "version": "3.10.6"
  }
 },
 "nbformat": 4,
 "nbformat_minor": 5
}
